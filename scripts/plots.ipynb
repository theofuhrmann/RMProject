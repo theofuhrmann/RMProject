{
 "cells": [
  {
   "cell_type": "code",
   "execution_count": null,
   "metadata": {},
   "outputs": [],
   "source": [
    "import pandas as pd\n",
    "import numpy as np\n",
    "import seaborn as sns\n",
    "import matplotlib.pyplot as plt\n",
    "import json"
   ]
  },
  {
   "cell_type": "code",
   "execution_count": null,
   "metadata": {},
   "outputs": [],
   "source": [
    "# Set matplotlib to use LaTeX for font rendering\n",
    "plt.rcParams.update({\n",
    "    \"text.usetex\": True,  # Enable LaTeX text rendering\n",
    "    \"font.family\": \"serif\",  # Use a serif font (typically Computer Modern in LaTeX)\n",
    "    \"axes.labelsize\": 12,    # Adjust axis label font size\n",
    "    \"axes.titlesize\": 14,    # Adjust title font size\n",
    "    \"font.size\": 12          # General font size\n",
    "})"
   ]
  },
  {
   "cell_type": "code",
   "execution_count": null,
   "metadata": {},
   "outputs": [],
   "source": [
    "with open(\"../data/data.json\") as f:\n",
    "    data = json.load(f)"
   ]
  },
  {
   "cell_type": "code",
   "execution_count": null,
   "metadata": {},
   "outputs": [],
   "source": [
    "data_dict = {\n",
    "    'Chat-GPT 4o': {\n",
    "        'categories': [],\n",
    "        'years': [],\n",
    "        'references': [],\n",
    "        'citations': [],\n",
    "        'jifs': [],\n",
    "        'journal_categories': []\n",
    "    },\n",
    "    'Claude 3.5 Sonnet': {\n",
    "        'categories': [],\n",
    "        'years': [],\n",
    "        'references': [],\n",
    "        'citations': [],\n",
    "        'jifs': [],\n",
    "        'journal_categories': []\n",
    "    },\n",
    "    'Gemini 1.5 Flash': {\n",
    "        'categories': [],\n",
    "        'years': [],\n",
    "        'references': [],\n",
    "        'citations': [],\n",
    "        'jifs': [],\n",
    "        'journal_categories': []\n",
    "    }\n",
    "}"
   ]
  },
  {
   "cell_type": "code",
   "execution_count": null,
   "metadata": {},
   "outputs": [],
   "source": [
    "for model in data['models']:\n",
    "    for category in data['models'][model]:\n",
    "        for paper in data['models'][model][category]['papers']:\n",
    "            data_dict[model]['categories'].append(category)\n",
    "            data_dict[model]['references'].append(paper['reference'])\n",
    "            data_dict[model]['years'].append(paper['year'])\n",
    "            data_dict[model]['citations'].append(paper['citations'])\n",
    "            data_dict[model]['jifs'].append(paper['jif'])\n",
    "            data_dict[model]['journal_categories'].append(paper['journal_categories'])"
   ]
  },
  {
   "cell_type": "code",
   "execution_count": null,
   "metadata": {},
   "outputs": [],
   "source": [
    "plot_data = {\n",
    "    'models': [model for model in data_dict for _ in range(len(data_dict[model]['references']))],\n",
    "    'categories': [category for model in data_dict for category in data_dict[model]['categories']],\n",
    "    'references': [ref for model in data_dict for ref in data_dict[model]['references']],\n",
    "    'years': [year for model in data_dict for year in data_dict[model]['years']],\n",
    "    'citations': [citation for model in data_dict for citation in data_dict[model]['citations']],\n",
    "    'jifs': [jif for model in data_dict for jif in data_dict[model]['jifs']],\n",
    "    'journal_categories': [category for model in data_dict for category in data_dict[model]['journal_categories']]\n",
    "}\n",
    "\n",
    "plot_data['models'] = [model.split(' ')[0] for model in plot_data['models']]"
   ]
  },
  {
   "cell_type": "code",
   "execution_count": null,
   "metadata": {},
   "outputs": [],
   "source": [
    "df = pd.DataFrame(plot_data)"
   ]
  },
  {
   "cell_type": "code",
   "execution_count": null,
   "metadata": {},
   "outputs": [],
   "source": [
    "custom_palette = {\n",
    "    'Chat-GPT': '#e9c46a',\n",
    "    'Claude': '#f4a261',\n",
    "    'Gemini': '#e76f51',\n",
    "}\n",
    "\n",
    "plt.figure(figsize=(3, 6))\n",
    "sns.boxplot(x='models', y='years', data=df, palette=custom_palette)\n",
    "sns.stripplot(x='models', y='years', data=df, color='#2a9d8f', size=5, jitter=0.05, alpha=0.75)\n",
    "\n",
    "# Customize the plot\n",
    "# plt.title(r'\\textbf{Distribution of citations by LLM}')\n",
    "plt.xlabel(r'\\textbf{LLM}')\n",
    "plt.ylabel(r'\\textbf{Year of publication}')\n",
    "\n",
    "# Save the plot as a PNG file\n",
    "plt.savefig('years_box_plot.png', format='png', dpi=300, bbox_inches='tight')\n",
    "\n",
    "# Optionally, show the plot\n",
    "plt.show()"
   ]
  },
  {
   "cell_type": "code",
   "execution_count": null,
   "metadata": {},
   "outputs": [],
   "source": [
    "plt.figure(figsize=(3, 6))\n",
    "sns.boxplot(x='models', y='citations', data=df, palette=custom_palette)\n",
    "sns.stripplot(x='models', y='citations', data=df, color='#2a9d8f', size=5, jitter=0.05, alpha=0.75)\n",
    "\n",
    "# Customize the plot\n",
    "# plt.title(r'\\textbf{Distribution of citations by LLM}')\n",
    "plt.xlabel(r'\\textbf{LLM}')\n",
    "plt.ylabel(r'\\textbf{Number of citations}')\n",
    "\n",
    "# Save the plot as a PNG file\n",
    "plt.savefig('citations_box_plot.png', format='png', dpi=300, bbox_inches='tight')\n",
    "\n",
    "# Optionally, show the plot\n",
    "plt.show()"
   ]
  },
  {
   "cell_type": "code",
   "execution_count": null,
   "metadata": {},
   "outputs": [],
   "source": [
    "plt.figure(figsize=(3, 6))\n",
    "sns.boxplot(x='models', y='jifs', data=df, palette=custom_palette)\n",
    "sns.stripplot(x='models', y='jifs', data=df, color='#2a9d8f', size=5, jitter=0.05, alpha=0.75)\n",
    "\n",
    "# Customize the plot\n",
    "# plt.title(r'\\textbf{Distribution of citations by LLM}')\n",
    "plt.xlabel(r'\\textbf{LLM}')\n",
    "plt.ylabel(r'\\textbf{JIF}')\n",
    "\n",
    "# Save the plot as a PNG file\n",
    "plt.savefig('jifs_box_plot.png', format='png', dpi=300, bbox_inches='tight')\n",
    "\n",
    "# Optionally, show the plot\n",
    "plt.show()"
   ]
  }
 ],
 "metadata": {
  "kernelspec": {
   "display_name": ".venv",
   "language": "python",
   "name": "python3"
  },
  "language_info": {
   "codemirror_mode": {
    "name": "ipython",
    "version": 3
   },
   "file_extension": ".py",
   "mimetype": "text/x-python",
   "name": "python",
   "nbconvert_exporter": "python",
   "pygments_lexer": "ipython3",
   "version": "3.13.0"
  }
 },
 "nbformat": 4,
 "nbformat_minor": 2
}
